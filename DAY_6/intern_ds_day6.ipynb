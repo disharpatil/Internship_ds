{
  "nbformat": 4,
  "nbformat_minor": 0,
  "metadata": {
    "colab": {
      "provenance": []
    },
    "kernelspec": {
      "name": "python3",
      "display_name": "Python 3"
    },
    "language_info": {
      "name": "python"
    }
  },
  "cells": [
    {
      "cell_type": "code",
      "execution_count": null,
      "metadata": {
        "id": "WnIfplisH_FF"
      },
      "outputs": [],
      "source": [
        "import pandas as pd\n",
        "from sklearn.linear_model import LogisticRegression\n",
        "from sklearn.model_selection import train_test_split\n",
        "from sklearn.metrics import accuracy_score\n",
        "from sklearn.metrics import classification_report\n",
        "from sklearn.metrics import confusion_matrix"
      ]
    },
    {
      "cell_type": "code",
      "source": [
        "logr=LogisticRegression()"
      ],
      "metadata": {
        "id": "UWh4rR9BIQ-P"
      },
      "execution_count": null,
      "outputs": []
    },
    {
      "cell_type": "code",
      "source": [
        "df=pd.read_csv(\"Iris.csv\")"
      ],
      "metadata": {
        "id": "i7Z6ch9GIWyd"
      },
      "execution_count": null,
      "outputs": []
    },
    {
      "cell_type": "code",
      "source": [
        "x = df.drop('Id', axis=1)\n",
        "x = x.drop('Species', axis=1)\n",
        "y = df['Species']"
      ],
      "metadata": {
        "id": "ZMrhoTrCItxu"
      },
      "execution_count": null,
      "outputs": []
    },
    {
      "cell_type": "code",
      "source": [
        "X_train, X_test, y_train, y_test = train_test_split(x,y,random_state=1,test_size=0.3)"
      ],
      "metadata": {
        "id": "57AD_ae9JLE9"
      },
      "execution_count": null,
      "outputs": []
    },
    {
      "cell_type": "code",
      "source": [
        "print(X_train)"
      ],
      "metadata": {
        "colab": {
          "base_uri": "https://localhost:8080/"
        },
        "id": "T1v6C0XvJWld",
        "outputId": "9f73d130-a860-4d01-e3ad-0e46cab72182"
      },
      "execution_count": null,
      "outputs": [
        {
          "output_type": "stream",
          "name": "stdout",
          "text": [
            "     SepalLengthCm  SepalWidthCm  PetalLengthCm  PetalWidthCm\n",
            "118            7.7           2.6            6.9           2.3\n",
            "18             5.7           3.8            1.7           0.3\n",
            "4              5.0           3.6            1.4           0.2\n",
            "45             4.8           3.0            1.4           0.3\n",
            "59             5.2           2.7            3.9           1.4\n",
            "..             ...           ...            ...           ...\n",
            "133            6.3           2.8            5.1           1.5\n",
            "137            6.4           3.1            5.5           1.8\n",
            "72             6.3           2.5            4.9           1.5\n",
            "140            6.7           3.1            5.6           2.4\n",
            "37             4.9           3.1            1.5           0.1\n",
            "\n",
            "[105 rows x 4 columns]\n"
          ]
        }
      ]
    },
    {
      "cell_type": "code",
      "source": [
        "print(X_test)"
      ],
      "metadata": {
        "colab": {
          "base_uri": "https://localhost:8080/"
        },
        "id": "CjGBaJ9QJYdd",
        "outputId": "b2f19faf-56b8-4a6a-db54-baecb329d750"
      },
      "execution_count": null,
      "outputs": [
        {
          "output_type": "stream",
          "name": "stdout",
          "text": [
            "     SepalLengthCm  SepalWidthCm  PetalLengthCm  PetalWidthCm\n",
            "14             5.8           4.0            1.2           0.2\n",
            "98             5.1           2.5            3.0           1.1\n",
            "75             6.6           3.0            4.4           1.4\n",
            "16             5.4           3.9            1.3           0.4\n",
            "131            7.9           3.8            6.4           2.0\n",
            "56             6.3           3.3            4.7           1.6\n",
            "141            6.9           3.1            5.1           2.3\n",
            "44             5.1           3.8            1.9           0.4\n",
            "29             4.7           3.2            1.6           0.2\n",
            "120            6.9           3.2            5.7           2.3\n",
            "94             5.6           2.7            4.2           1.3\n",
            "5              5.4           3.9            1.7           0.4\n",
            "102            7.1           3.0            5.9           2.1\n",
            "51             6.4           3.2            4.5           1.5\n",
            "78             6.0           2.9            4.5           1.5\n",
            "42             4.4           3.2            1.3           0.2\n",
            "92             5.8           2.6            4.0           1.2\n",
            "66             5.6           3.0            4.5           1.5\n",
            "31             5.4           3.4            1.5           0.4\n",
            "35             5.0           3.2            1.2           0.2\n",
            "90             5.5           2.6            4.4           1.2\n",
            "84             5.4           3.0            4.5           1.5\n",
            "77             6.7           3.0            5.0           1.7\n",
            "40             5.0           3.5            1.3           0.3\n",
            "125            7.2           3.2            6.0           1.8\n",
            "99             5.7           2.8            4.1           1.3\n",
            "33             5.5           4.2            1.4           0.2\n",
            "19             5.1           3.8            1.5           0.3\n",
            "73             6.1           2.8            4.7           1.2\n",
            "146            6.3           2.5            5.0           1.9\n",
            "91             6.1           3.0            4.6           1.4\n",
            "135            7.7           3.0            6.1           2.3\n",
            "69             5.6           2.5            3.9           1.1\n",
            "128            6.4           2.8            5.6           2.1\n",
            "114            5.8           2.8            5.1           2.4\n",
            "48             5.3           3.7            1.5           0.2\n",
            "53             5.5           2.3            4.0           1.3\n",
            "28             5.2           3.4            1.4           0.2\n",
            "54             6.5           2.8            4.6           1.5\n",
            "108            6.7           2.5            5.8           1.8\n",
            "112            6.8           3.0            5.5           2.1\n",
            "17             5.1           3.5            1.4           0.3\n",
            "119            6.0           2.2            5.0           1.5\n",
            "103            6.3           2.9            5.6           1.8\n",
            "58             6.6           2.9            4.6           1.3\n"
          ]
        }
      ]
    },
    {
      "cell_type": "code",
      "source": [
        "print(y_train)"
      ],
      "metadata": {
        "colab": {
          "base_uri": "https://localhost:8080/"
        },
        "id": "AewQXQ-JJbcQ",
        "outputId": "b4a6667f-9a46-4209-ff4c-8949d59be3d1"
      },
      "execution_count": null,
      "outputs": [
        {
          "output_type": "stream",
          "name": "stdout",
          "text": [
            "118     Iris-virginica\n",
            "18         Iris-setosa\n",
            "4          Iris-setosa\n",
            "45         Iris-setosa\n",
            "59     Iris-versicolor\n",
            "            ...       \n",
            "133     Iris-virginica\n",
            "137     Iris-virginica\n",
            "72     Iris-versicolor\n",
            "140     Iris-virginica\n",
            "37         Iris-setosa\n",
            "Name: Species, Length: 105, dtype: object\n"
          ]
        }
      ]
    },
    {
      "cell_type": "code",
      "source": [
        "print(y_test)"
      ],
      "metadata": {
        "colab": {
          "base_uri": "https://localhost:8080/"
        },
        "id": "G60wRSZ_Jeot",
        "outputId": "6f354ae6-cec7-4738-e086-f1096b6dd71b"
      },
      "execution_count": null,
      "outputs": [
        {
          "output_type": "stream",
          "name": "stdout",
          "text": [
            "14         Iris-setosa\n",
            "98     Iris-versicolor\n",
            "75     Iris-versicolor\n",
            "16         Iris-setosa\n",
            "131     Iris-virginica\n",
            "56     Iris-versicolor\n",
            "141     Iris-virginica\n",
            "44         Iris-setosa\n",
            "29         Iris-setosa\n",
            "120     Iris-virginica\n",
            "94     Iris-versicolor\n",
            "5          Iris-setosa\n",
            "102     Iris-virginica\n",
            "51     Iris-versicolor\n",
            "78     Iris-versicolor\n",
            "42         Iris-setosa\n",
            "92     Iris-versicolor\n",
            "66     Iris-versicolor\n",
            "31         Iris-setosa\n",
            "35         Iris-setosa\n",
            "90     Iris-versicolor\n",
            "84     Iris-versicolor\n",
            "77     Iris-versicolor\n",
            "40         Iris-setosa\n",
            "125     Iris-virginica\n",
            "99     Iris-versicolor\n",
            "33         Iris-setosa\n",
            "19         Iris-setosa\n",
            "73     Iris-versicolor\n",
            "146     Iris-virginica\n",
            "91     Iris-versicolor\n",
            "135     Iris-virginica\n",
            "69     Iris-versicolor\n",
            "128     Iris-virginica\n",
            "114     Iris-virginica\n",
            "48         Iris-setosa\n",
            "53     Iris-versicolor\n",
            "28         Iris-setosa\n",
            "54     Iris-versicolor\n",
            "108     Iris-virginica\n",
            "112     Iris-virginica\n",
            "17         Iris-setosa\n",
            "119     Iris-virginica\n",
            "103     Iris-virginica\n",
            "58     Iris-versicolor\n",
            "Name: Species, dtype: object\n"
          ]
        }
      ]
    },
    {
      "cell_type": "code",
      "source": [
        "logr.fit(X_train,y_train)"
      ],
      "metadata": {
        "colab": {
          "base_uri": "https://localhost:8080/",
          "height": 234
        },
        "id": "z7MoqdwWJiBd",
        "outputId": "eb40fd2e-09fc-494b-ad88-57bb6d3ad9cf"
      },
      "execution_count": null,
      "outputs": [
        {
          "output_type": "stream",
          "name": "stderr",
          "text": [
            "/usr/local/lib/python3.10/dist-packages/sklearn/linear_model/_logistic.py:458: ConvergenceWarning: lbfgs failed to converge (status=1):\n",
            "STOP: TOTAL NO. of ITERATIONS REACHED LIMIT.\n",
            "\n",
            "Increase the number of iterations (max_iter) or scale the data as shown in:\n",
            "    https://scikit-learn.org/stable/modules/preprocessing.html\n",
            "Please also refer to the documentation for alternative solver options:\n",
            "    https://scikit-learn.org/stable/modules/linear_model.html#logistic-regression\n",
            "  n_iter_i = _check_optimize_result(\n"
          ]
        },
        {
          "output_type": "execute_result",
          "data": {
            "text/plain": [
              "LogisticRegression()"
            ],
            "text/html": [
              "<style>#sk-container-id-1 {color: black;background-color: white;}#sk-container-id-1 pre{padding: 0;}#sk-container-id-1 div.sk-toggleable {background-color: white;}#sk-container-id-1 label.sk-toggleable__label {cursor: pointer;display: block;width: 100%;margin-bottom: 0;padding: 0.3em;box-sizing: border-box;text-align: center;}#sk-container-id-1 label.sk-toggleable__label-arrow:before {content: \"▸\";float: left;margin-right: 0.25em;color: #696969;}#sk-container-id-1 label.sk-toggleable__label-arrow:hover:before {color: black;}#sk-container-id-1 div.sk-estimator:hover label.sk-toggleable__label-arrow:before {color: black;}#sk-container-id-1 div.sk-toggleable__content {max-height: 0;max-width: 0;overflow: hidden;text-align: left;background-color: #f0f8ff;}#sk-container-id-1 div.sk-toggleable__content pre {margin: 0.2em;color: black;border-radius: 0.25em;background-color: #f0f8ff;}#sk-container-id-1 input.sk-toggleable__control:checked~div.sk-toggleable__content {max-height: 200px;max-width: 100%;overflow: auto;}#sk-container-id-1 input.sk-toggleable__control:checked~label.sk-toggleable__label-arrow:before {content: \"▾\";}#sk-container-id-1 div.sk-estimator input.sk-toggleable__control:checked~label.sk-toggleable__label {background-color: #d4ebff;}#sk-container-id-1 div.sk-label input.sk-toggleable__control:checked~label.sk-toggleable__label {background-color: #d4ebff;}#sk-container-id-1 input.sk-hidden--visually {border: 0;clip: rect(1px 1px 1px 1px);clip: rect(1px, 1px, 1px, 1px);height: 1px;margin: -1px;overflow: hidden;padding: 0;position: absolute;width: 1px;}#sk-container-id-1 div.sk-estimator {font-family: monospace;background-color: #f0f8ff;border: 1px dotted black;border-radius: 0.25em;box-sizing: border-box;margin-bottom: 0.5em;}#sk-container-id-1 div.sk-estimator:hover {background-color: #d4ebff;}#sk-container-id-1 div.sk-parallel-item::after {content: \"\";width: 100%;border-bottom: 1px solid gray;flex-grow: 1;}#sk-container-id-1 div.sk-label:hover label.sk-toggleable__label {background-color: #d4ebff;}#sk-container-id-1 div.sk-serial::before {content: \"\";position: absolute;border-left: 1px solid gray;box-sizing: border-box;top: 0;bottom: 0;left: 50%;z-index: 0;}#sk-container-id-1 div.sk-serial {display: flex;flex-direction: column;align-items: center;background-color: white;padding-right: 0.2em;padding-left: 0.2em;position: relative;}#sk-container-id-1 div.sk-item {position: relative;z-index: 1;}#sk-container-id-1 div.sk-parallel {display: flex;align-items: stretch;justify-content: center;background-color: white;position: relative;}#sk-container-id-1 div.sk-item::before, #sk-container-id-1 div.sk-parallel-item::before {content: \"\";position: absolute;border-left: 1px solid gray;box-sizing: border-box;top: 0;bottom: 0;left: 50%;z-index: -1;}#sk-container-id-1 div.sk-parallel-item {display: flex;flex-direction: column;z-index: 1;position: relative;background-color: white;}#sk-container-id-1 div.sk-parallel-item:first-child::after {align-self: flex-end;width: 50%;}#sk-container-id-1 div.sk-parallel-item:last-child::after {align-self: flex-start;width: 50%;}#sk-container-id-1 div.sk-parallel-item:only-child::after {width: 0;}#sk-container-id-1 div.sk-dashed-wrapped {border: 1px dashed gray;margin: 0 0.4em 0.5em 0.4em;box-sizing: border-box;padding-bottom: 0.4em;background-color: white;}#sk-container-id-1 div.sk-label label {font-family: monospace;font-weight: bold;display: inline-block;line-height: 1.2em;}#sk-container-id-1 div.sk-label-container {text-align: center;}#sk-container-id-1 div.sk-container {/* jupyter's `normalize.less` sets `[hidden] { display: none; }` but bootstrap.min.css set `[hidden] { display: none !important; }` so we also need the `!important` here to be able to override the default hidden behavior on the sphinx rendered scikit-learn.org. See: https://github.com/scikit-learn/scikit-learn/issues/21755 */display: inline-block !important;position: relative;}#sk-container-id-1 div.sk-text-repr-fallback {display: none;}</style><div id=\"sk-container-id-1\" class=\"sk-top-container\"><div class=\"sk-text-repr-fallback\"><pre>LogisticRegression()</pre><b>In a Jupyter environment, please rerun this cell to show the HTML representation or trust the notebook. <br />On GitHub, the HTML representation is unable to render, please try loading this page with nbviewer.org.</b></div><div class=\"sk-container\" hidden><div class=\"sk-item\"><div class=\"sk-estimator sk-toggleable\"><input class=\"sk-toggleable__control sk-hidden--visually\" id=\"sk-estimator-id-1\" type=\"checkbox\" checked><label for=\"sk-estimator-id-1\" class=\"sk-toggleable__label sk-toggleable__label-arrow\">LogisticRegression</label><div class=\"sk-toggleable__content\"><pre>LogisticRegression()</pre></div></div></div></div></div>"
            ]
          },
          "metadata": {},
          "execution_count": 11
        }
      ]
    },
    {
      "cell_type": "code",
      "source": [
        "y_pred=logr.predict(X_test)"
      ],
      "metadata": {
        "id": "6dGLlrrMJoo9"
      },
      "execution_count": null,
      "outputs": []
    },
    {
      "cell_type": "code",
      "source": [
        "print(\"Coefficients:\", logr.coef_)\n",
        "print(\"Intercept:\", logr.intercept_)"
      ],
      "metadata": {
        "colab": {
          "base_uri": "https://localhost:8080/"
        },
        "id": "PPaFehTpJp3d",
        "outputId": "7126b531-0d40-4488-c4ee-9f9281e40a66"
      },
      "execution_count": null,
      "outputs": [
        {
          "output_type": "stream",
          "name": "stdout",
          "text": [
            "Coefficients: [[-0.43376183  0.75078365 -2.24664039 -0.93787541]\n",
            " [ 0.58145363 -0.531682   -0.12920619 -0.79356373]\n",
            " [-0.1476918  -0.21910165  2.37584659  1.73143914]]\n",
            "Intercept: [  9.22167681   1.69948921 -10.92116602]\n"
          ]
        }
      ]
    },
    {
      "cell_type": "code",
      "source": [
        "print(accuracy_score(y_test,y_pred))"
      ],
      "metadata": {
        "colab": {
          "base_uri": "https://localhost:8080/"
        },
        "id": "1lk7y-8pJ2Cm",
        "outputId": "7c2682f2-726b-4b7c-c0c0-6e70852273a9"
      },
      "execution_count": null,
      "outputs": [
        {
          "output_type": "stream",
          "name": "stdout",
          "text": [
            "0.9777777777777777\n"
          ]
        }
      ]
    },
    {
      "cell_type": "code",
      "source": [
        "print(confusion_matrix(y_test,y_pred))"
      ],
      "metadata": {
        "colab": {
          "base_uri": "https://localhost:8080/"
        },
        "id": "2HScF8S0KmE8",
        "outputId": "74e88205-77da-45df-90d9-66571a6c9367"
      },
      "execution_count": null,
      "outputs": [
        {
          "output_type": "stream",
          "name": "stdout",
          "text": [
            "[[14  0  0]\n",
            " [ 0 17  1]\n",
            " [ 0  0 13]]\n"
          ]
        }
      ]
    },
    {
      "cell_type": "code",
      "source": [
        "print(classification_report(y_test,y_pred))"
      ],
      "metadata": {
        "colab": {
          "base_uri": "https://localhost:8080/"
        },
        "id": "bOVk9GO9KpDe",
        "outputId": "866ae1e3-ce7e-4435-843c-75fb4248a655"
      },
      "execution_count": null,
      "outputs": [
        {
          "output_type": "stream",
          "name": "stdout",
          "text": [
            "                 precision    recall  f1-score   support\n",
            "\n",
            "    Iris-setosa       1.00      1.00      1.00        14\n",
            "Iris-versicolor       1.00      0.94      0.97        18\n",
            " Iris-virginica       0.93      1.00      0.96        13\n",
            "\n",
            "       accuracy                           0.98        45\n",
            "      macro avg       0.98      0.98      0.98        45\n",
            "   weighted avg       0.98      0.98      0.98        45\n",
            "\n"
          ]
        }
      ]
    },
    {
      "cell_type": "code",
      "source": [
        "#2. Naive Bayes Classifier\n",
        "\n",
        "from sklearn.naive_bayes import GaussianNB\n",
        "\n",
        "from sklearn.model_selection import train_test_split\n",
        "from sklearn.metrics import  accuracy_score\n",
        "\n",
        "nb=GaussianNB()\n",
        "\n",
        "X_train, X_test, y_train, y_test = train_test_split(x, y, random_state=0,test_size=0.4)\n",
        "\n",
        "nb.fit(X_train,y_train)\n",
        "\n",
        "y_pred1=nb.predict(X_test)\n",
        "\n",
        "print(\"Naive Bayes: \",accuracy_score(y_test,y_pred1))"
      ],
      "metadata": {
        "colab": {
          "base_uri": "https://localhost:8080/"
        },
        "id": "XINzRXj8KqIe",
        "outputId": "d06aa9f1-ed80-472b-c421-dc99b974e697"
      },
      "execution_count": null,
      "outputs": [
        {
          "output_type": "stream",
          "name": "stdout",
          "text": [
            "Naive Bayes:  0.9333333333333333\n"
          ]
        }
      ]
    },
    {
      "cell_type": "code",
      "source": [
        "# 3. KNN\n",
        "'''\n",
        "K-Nearest Neighbors (KNN) is a simple yet powerful algorithm used for classification and regression tasks in machine learning. It is a non-parametric and lazy learning algorithm, meaning it does not make assumptions about the underlying data distribution and delays model training until prediction time.\n",
        "'''\n",
        "from sklearn.model_selection import train_test_split\n",
        "from sklearn.neighbors import KNeighborsClassifier\n",
        "from sklearn.metrics import accuracy_score\n",
        "\n",
        "knn=KNeighborsClassifier(n_neighbors=5)\n",
        "\n",
        "X_train,X_test,y_train,y_test=train_test_split(x,y,random_state=0)\n",
        "\n",
        "train=knn.fit(X_train,y_train)\n",
        "\n",
        "y_pred=knn.predict(X_test)\n",
        "\n",
        "print(accuracy_score(y_test,y_pred))"
      ],
      "metadata": {
        "colab": {
          "base_uri": "https://localhost:8080/"
        },
        "id": "QzWd4iURKzfe",
        "outputId": "a45890a8-a143-4099-d918-eb4dac053786"
      },
      "execution_count": null,
      "outputs": [
        {
          "output_type": "stream",
          "name": "stdout",
          "text": [
            "0.9736842105263158\n"
          ]
        }
      ]
    },
    {
      "cell_type": "code",
      "source": [
        "#4. Decision Tree\n",
        "\n",
        "from sklearn import tree\n",
        "from sklearn.metrics import accuracy_score\n",
        "from sklearn.model_selection import train_test_split\n",
        "\n",
        "dt=tree.DecisionTreeClassifier()\n",
        "\n",
        "X_train,X_test,y_train,y_test=train_test_split(x,y,random_state=0,test_size=0.3)\n",
        "\n",
        "train=dt.fit(X_train,y_train)\n",
        "\n",
        "y_pred=dt.predict(X_test)\n",
        "\n",
        "print(accuracy_score(y_test,y_pred))"
      ],
      "metadata": {
        "colab": {
          "base_uri": "https://localhost:8080/"
        },
        "id": "ibpgodBLL0qK",
        "outputId": "1cc6872e-0845-467b-d258-8515fcf5b8db"
      },
      "execution_count": null,
      "outputs": [
        {
          "output_type": "stream",
          "name": "stdout",
          "text": [
            "0.9777777777777777\n"
          ]
        }
      ]
    },
    {
      "cell_type": "code",
      "source": [
        "# 5. Random Forest\n",
        "\n",
        "from sklearn.model_selection import train_test_split\n",
        "from sklearn.metrics import accuracy_score\n",
        "from sklearn.ensemble import RandomForestClassifier\n",
        "\n",
        "rf=RandomForestClassifier()\n",
        "\n",
        "X_train,X_test,y_train,y_test=train_test_split(x,y,random_state=0,test_size=0.3)\n",
        "\n",
        "train=rf.fit(X_train,y_train)\n",
        "\n",
        "y_pred=rf.predict(X_test)\n",
        "\n",
        "print(accuracy_score(y_test,y_pred))"
      ],
      "metadata": {
        "colab": {
          "base_uri": "https://localhost:8080/"
        },
        "id": "e4WeGFkJL3pL",
        "outputId": "71dd9d88-2a11-4a07-c380-ba2bb6f0a62e"
      },
      "execution_count": null,
      "outputs": [
        {
          "output_type": "stream",
          "name": "stdout",
          "text": [
            "0.9777777777777777\n"
          ]
        }
      ]
    },
    {
      "cell_type": "code",
      "source": [
        "# 6. Gradient Boosting\n",
        "'''\n",
        "Gradient Boosting is a powerful ensemble learning technique used for both regression and classification tasks. It builds predictive models in the form of an ensemble of weak prediction models, typically decision trees, where each new model in the ensemble corrects errors made by the previous models. Gradient Boosting is known for its high predictive accuracy and ability to handle complex interactions in data.\n",
        "'''\n",
        "\n",
        "from sklearn.ensemble import GradientBoostingClassifier\n",
        "\n",
        "gbm=GradientBoostingClassifier(n_estimators=10)\n",
        "\n",
        "X_train,X_test,Y_train,Y_test=train_test_split(x,y,random_state=0,test_size=0.2)\n",
        "\n",
        "gbm.fit(X_train,Y_train)\n",
        "\n",
        "y_pred=gbm.predict(X_test)\n",
        "\n",
        "print(\"GBM: \",accuracy_score(Y_test,y_pred))"
      ],
      "metadata": {
        "colab": {
          "base_uri": "https://localhost:8080/"
        },
        "id": "n99bynbnL7R7",
        "outputId": "9a3ab746-c8f3-4767-e6d5-42504e95d9d5"
      },
      "execution_count": null,
      "outputs": [
        {
          "output_type": "stream",
          "name": "stdout",
          "text": [
            "GBM:  1.0\n"
          ]
        }
      ]
    },
    {
      "cell_type": "code",
      "source": [],
      "metadata": {
        "id": "oUxo_sJ1L_Bu"
      },
      "execution_count": null,
      "outputs": []
    }
  ]
}